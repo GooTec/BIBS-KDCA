{
 "cells": [
  {
   "cell_type": "code",
   "execution_count": 1,
   "metadata": {},
   "outputs": [
    {
     "name": "stderr",
     "output_type": "stream",
     "text": [
      "/var/folders/sj/c0vx7y5x3190y7dky0gdrb6m0000gn/T/ipykernel_58656/2860457303.py:8: DtypeWarning: Columns (17,19,21,23,38,69,84,139,154,165,283,289,290,292,294,316) have mixed types. Specify dtype option on import or set low_memory=False.\n",
      "  df2 = pd.read_csv(data_dir + files[1])\n",
      "/var/folders/sj/c0vx7y5x3190y7dky0gdrb6m0000gn/T/ipykernel_58656/2860457303.py:30: SettingWithCopyWarning: \n",
      "A value is trying to be set on a copy of a slice from a DataFrame.\n",
      "Try using .loc[row_indexer,col_indexer] = value instead\n",
      "\n",
      "See the caveats in the documentation: https://pandas.pydata.org/pandas-docs/stable/user_guide/indexing.html#returning-a-view-versus-a-copy\n",
      "  sub_df1['year'] = 'First'\n",
      "/var/folders/sj/c0vx7y5x3190y7dky0gdrb6m0000gn/T/ipykernel_58656/2860457303.py:31: SettingWithCopyWarning: \n",
      "A value is trying to be set on a copy of a slice from a DataFrame.\n",
      "Try using .loc[row_indexer,col_indexer] = value instead\n",
      "\n",
      "See the caveats in the documentation: https://pandas.pydata.org/pandas-docs/stable/user_guide/indexing.html#returning-a-view-versus-a-copy\n",
      "  sub_df2['year'] = 'Second'\n"
     ]
    }
   ],
   "source": [
    "import pandas as pd \n",
    "import numpy as np\n",
    "data_dir = '../Data/'\n",
    "files = ['clinical_data_1.csv', 'clinical_data_2.csv']\n",
    "\n",
    "\n",
    "df1 = pd.read_csv(data_dir + files[0])\n",
    "df2 = pd.read_csv(data_dir + files[1])\n",
    "\n",
    "\n",
    "mapping = pd.read_csv(data_dir + 'mapping.txt', sep='\\t', encoding='cp949')\n",
    "\n",
    "\n",
    "# column name mapping and merge two tables \n",
    "\n",
    "column1 = mapping['Column name of Table1']\n",
    "column2 = mapping['Column name of Table2']\n",
    "\n",
    "sub_df1 = df1[column1]\n",
    "sub_df2 = df2[column2]\n",
    "\n",
    "common_names = [ name.replace('CMD_', '') for name in column1]\n",
    "\n",
    "for item in common_names: \n",
    "    if 'DISCHARGE' in item: \n",
    "        print(item)\n",
    "\n",
    "sub_df1.columns = common_names\n",
    "sub_df2.columns = common_names\n",
    "sub_df1['year'] = 'First'\n",
    "sub_df2['year'] = 'Second'\n",
    "\n",
    "sub_df = pd.concat([sub_df1, sub_df2], axis=0)\n",
    "\n",
    "# whole_df = pd.concat([sub_df.iloc[:, :11] , sub_df.iloc[:, mapping[pd.isna(mapping['etc'])].index]] , axis=1)\n",
    "whole_df = sub_df \n",
    "\n",
    "whole_df\n",
    "\n",
    "whole_df.loc[(whole_df['year'] == 'First') &  (whole_df['GROUP'] == 3), 'covid'] = 1\n",
    "whole_df.loc[(whole_df['year'] == 'Second') & (whole_df['GROUP'] == 2), 'covid'] = 1"
   ]
  },
  {
   "cell_type": "code",
   "execution_count": 2,
   "metadata": {},
   "outputs": [],
   "source": [
    "whole_df.to_csv(data_dir + 'clinical_data.csv', index=False)"
   ]
  },
  {
   "cell_type": "code",
   "execution_count": null,
   "metadata": {},
   "outputs": [],
   "source": []
  }
 ],
 "metadata": {
  "kernelspec": {
   "display_name": "KDCA",
   "language": "python",
   "name": "python3"
  },
  "language_info": {
   "codemirror_mode": {
    "name": "ipython",
    "version": 3
   },
   "file_extension": ".py",
   "mimetype": "text/x-python",
   "name": "python",
   "nbconvert_exporter": "python",
   "pygments_lexer": "ipython3",
   "version": "3.8.18"
  }
 },
 "nbformat": 4,
 "nbformat_minor": 2
}
